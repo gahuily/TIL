{
 "cells": [
  {
   "cell_type": "code",
   "execution_count": null,
   "id": "ad1d8a86",
   "metadata": {},
   "outputs": [],
   "source": [
    "# =============================================================================\n",
    "# groupby() 함수 설명:\n",
    "# - \"CustomerID\"를 기준으로 데이터를 그룹화\n",
    "# - 각 고객별 'PurchaseAmount' 값을 합산하여 총 소비 금액(TotalSpent) 계산\n",
    "# - reset_index(): 그룹화된 데이터를 다시 일반 데이터프레임 형태로 변환\n",
    "#  df_total_spent = df.groupby(\"CustomerID\")[\"PurchaseAmount\"].sum().reset_index()\n",
    "# =============================================================================\n",
    "# =============================================================================\n",
    "# cut() 함수 설명:\n",
    "# - df[\"Age\"]: 나이(Age) 데이터를 기반으로 연령대를 구분\n",
    "# - bins: 연령 구간 설정 (0-18, 19-30, 31-50, 51-100)\n",
    "# - labels: 각 구간에 할당할 라벨(Teen, Young Adult, Adult, Senior)\n",
    "# - right=False: 오른쪽 경계값(예: 18)은 포함하지 않도록 설정 (0 ≤ x < 18은 Teen)\n",
    "#  df[\"AgeGroup\"] = pd.cut(df[\"Age\"], bins=bins, labels=labels, right=False)\n",
    "# =============================================================================\n",
    "# =============================================================================\n",
    "# map() 함수 설명:\n",
    "# - df[\"Gender\"]: 기존 성별 데이터 (0 또는 1)\n",
    "# - .map({0: \"Female\", 1: \"Male\"}): 0 → \"Female\", 1 → \"Male\"로 변환\n",
    "# =============================================================================\n",
    "\n",
    "# 1. 필요한 라이브러리 불러오기\n",
    "import pandas as pd\n"
   ]
  },
  {
   "cell_type": "code",
   "execution_count": null,
   "id": "86f786ce",
   "metadata": {},
   "outputs": [],
   "source": [
    "# 2. 데이터 로드\n",
    "purchase_file_path = \"../data/purchase_data.csv\"\n",
    "demo_file_path = \"../data/demo_data.csv\"\n",
    "\n",
    "df_purchase = pd.______(______)  # 구매 데이터 로드\n",
    "df_demo = pd.______(______)  # 고객 정보 데이터 로드"
   ]
  },
  {
   "cell_type": "code",
   "execution_count": null,
   "id": "c65e130a",
   "metadata": {},
   "outputs": [],
   "source": [
    "# 3. 데이터 확인\n",
    "print(\"=== 구매 데이터 확인 ===\")\n",
    "df_purchase.______()  # 구매 데이터의 상위 5개 행 출력"
   ]
  },
  {
   "cell_type": "code",
   "execution_count": null,
   "id": "3b41f244",
   "metadata": {},
   "outputs": [],
   "source": [
    "print(\"\\n=== 고객 정보 데이터 확인 ===\")\n",
    "df_demo.______()  # 고객 정보 데이터의 상위 5개 행 출력"
   ]
  },
  {
   "cell_type": "code",
   "execution_count": null,
   "id": "006775c1",
   "metadata": {},
   "outputs": [],
   "source": [
    "# 4. 데이터 병합 (CustomerID 기준)\n",
    "# 두 데이터프레임을 CustomerID를 기준으로 병합 (Inner Join)\n",
    "df = pd.______ (df_purchase, df_demo, on=\"______\", how=\"______\")  # 병합\n",
    "\n",
    "# 병합 후 데이터 확인\n",
    "print(\"\\n=== 병합된 데이터 확인 ===\")\n",
    "df.______()  # 병합된 데이터의 상위 5개 행 출력"
   ]
  },
  {
   "cell_type": "code",
   "execution_count": null,
   "id": "96be58ef",
   "metadata": {},
   "outputs": [],
   "source": [
    "# 5. 데이터 타입 변환\n",
    "# 'PurchaseDate' 컬럼을 문자열에서 datetime 타입으로 변환\n",
    "df['PurchaseDate'] = pd.to_datetime(df['PurchaseDate'])  # 날짜 형식 변환\n",
    "\n",
    "# 변환된 데이터 타입 확인\n",
    "print(\"\\n=== 데이터 타입 확인 ===\")\n",
    "df.______()  # 데이터 타입 확인"
   ]
  },
  {
   "cell_type": "code",
   "execution_count": null,
   "id": "fa0bc90f",
   "metadata": {},
   "outputs": [],
   "source": [
    "# 6. 고객별 총 구매 금액 계산\n",
    "# 'CustomerID'를 기준으로 'PurchaseAmount'를 합산하여 고객별 총 구매 금액 계산\n",
    "df_total_spent = df.groupby(\"______\")[\"______\"].sum().reset_index()  # 고객별 총 구매 금액 계산\n",
    "\n",
    "# 컬럼명 변경 (총 구매 금액을 의미하도록 변경)\n",
    "df_total_spent.rename(columns={\"______\": \"TotalSpent\"}, inplace=True)  # 컬럼명 변경\n",
    "\n",
    "# 고객별 총 구매 금액 확인\n",
    "print(\"\\n=== 고객별 총 구매 금액 확인 ===\")\n",
    "df_total_spent.______()  # 상위 5개 데이터 출력"
   ]
  },
  {
   "cell_type": "code",
   "execution_count": null,
   "id": "7416078f",
   "metadata": {},
   "outputs": [],
   "source": [
    "# 7. 연령대별 평균 소비 금액 계산\n",
    "# 연령대를 나누는 기준을 설정 (Pandas의 cut() 사용)\n",
    "bins = [0, 18, 30, 50, 100]  # 연령대 구간 (0-18세, 19-30세, 31-50세, 51세 이상)\n",
    "labels = [\"Teen\", \"Young Adult\", \"Adult\", \"Senior\"]  # 각 구간에 대한 라벨 지정\n",
    "df[\"AgeGroup\"] = pd.______ (df[\"______\"], bins=bins, labels=labels, right=False)  # 연령대 구분\n",
    "\n",
    "# 연령대별 평균 소비 금액 계산\n",
    "df_age_spent = df.groupby(\"______\")[\"______\"].mean().reset_index()  # 연령대별 평균 소비 금액 계산\n",
    "\n",
    "# 컬럼명 변경\n",
    "df_age_spent.rename(columns={\"______\": \"AvgSpent\"}, inplace=True)  # 컬럼명 변경\n",
    "\n",
    "# 연령대별 평균 소비 금액 확인\n",
    "print(\"\\n=== 연령대별 평균 소비 금액 확인 ===\")\n",
    "df_age_spent  # 연령대별 평균 소비 금액 출력\n"
   ]
  },
  {
   "cell_type": "code",
   "execution_count": null,
   "id": "70fbe59f",
   "metadata": {},
   "outputs": [],
   "source": [
    "# 8. 성별별 평균 소비 금액 계산\n",
    "# 성별(Gender)별 평균 소비 금액 계산\n",
    "df_gender_spent = df.groupby(\"______\")[\"______\"].mean().reset_index()  # 성별별 평균 소비 금액 계산\n",
    "\n",
    "# Gender 값을 남/녀로 변환 (0: 여성, 1: 남성)\n",
    "df_gender_spent[\"Gender\"] = df_gender_spent[\"Gender\"].map({0: \"Female\", 1: \"Male\"})  # 성별 변환\n",
    "\n",
    "# 컬럼명 변경\n",
    "df_gender_spent.rename(columns={\"______\": \"AvgSpent\"}, inplace=True)  # 컬럼명 변경\n",
    "\n",
    "# 성별별 평균 소비 금액 확인\n",
    "print(\"\\n=== 성별별 평균 소비 금액 확인 ===\")\n",
    "df_gender_spent  # 성별별 평균 소비 금액 출력"
   ]
  },
  {
   "cell_type": "code",
   "execution_count": null,
   "id": "4c596698",
   "metadata": {},
   "outputs": [],
   "source": [
    "# 9. 고객별 총 구매 횟수 계산\n",
    "# CustomerID를 기준으로 구매 횟수(= 데이터 개수) 계산\n",
    "df_purchase_count = df.groupby(\"______\")[\"______\"].count().reset_index()  # 고객별 총 구매 횟수 계산\n",
    "\n",
    "# 컬럼명 변경 (총 구매 횟수를 의미하도록 변경)\n",
    "df_purchase_count.rename(columns={\"______\": \"TotalPurchases\"}, inplace=True)  # 컬럼명 변경\n",
    "\n",
    "# 고객별 총 구매 횟수 확인\n",
    "print(\"\\n=== 고객별 총 구매 횟수 확인 ===\")\n",
    "df_purchase_count.______()  # 상위 5개 데이터 출력"
   ]
  },
  {
   "cell_type": "code",
   "execution_count": null,
   "id": "f3f23e6d",
   "metadata": {},
   "outputs": [],
   "source": [
    "# 10. 최종 데이터 병합 (총 소비 금액 + 총 구매 횟수)\n",
    "df_final = pd.______ (df_total_spent, df_purchase_count, on=\"______\", how=\"______\")  # 최종 데이터 병합\n",
    "\n",
    "# 최종 데이터 확인\n",
    "print(\"\\n=== 고객별 총 소비 금액 및 총 구매 횟수 데이터 확인 ===\")\n",
    "df_final.______()  # 최종 데이터 출력"
   ]
  }
 ],
 "metadata": {
  "language_info": {
   "name": "python"
  }
 },
 "nbformat": 4,
 "nbformat_minor": 5
}
